{
 "cells": [
  {
   "cell_type": "code",
   "execution_count": 26,
   "metadata": {},
   "outputs": [],
   "source": [
    "import json"
   ]
  },
  {
   "cell_type": "code",
   "execution_count": 27,
   "metadata": {},
   "outputs": [],
   "source": [
    "from datetime import datetime"
   ]
  },
  {
   "cell_type": "code",
   "execution_count": 28,
   "metadata": {},
   "outputs": [],
   "source": [
    "from playsound import playsound"
   ]
  },
  {
   "cell_type": "code",
   "execution_count": 29,
   "metadata": {},
   "outputs": [],
   "source": [
    "tday=datetime.today().strftime('%Y-%m-%d')"
   ]
  },
  {
   "cell_type": "code",
   "execution_count": 30,
   "metadata": {},
   "outputs": [],
   "source": [
    "with open('/home/danish/repo/hub/request_api/iccuk_prayertimes') as json_file:\n",
    "    read_content = json.load(json_file)"
   ]
  },
  {
   "cell_type": "code",
   "execution_count": 31,
   "metadata": {},
   "outputs": [],
   "source": [
    "times_access = read_content['times']"
   ]
  },
  {
   "cell_type": "code",
   "execution_count": 32,
   "metadata": {},
   "outputs": [],
   "source": [
    "dates_access = times_access[tday]"
   ]
  },
  {
   "cell_type": "code",
   "execution_count": 33,
   "metadata": {},
   "outputs": [
    {
     "name": "stdout",
     "output_type": "stream",
     "text": [
      "date => 2019-03-24\n",
      "fajr => 04:17\n",
      "fajr_jamat => 04:47\n",
      "sunrise => 05:52\n",
      "dhuhr => 12:12\n",
      "dhuhr_jamat => 12:45\n",
      "asr => 03:30\n",
      "asr_2 => 04:21\n",
      "asr_jamat => 04:36\n",
      "magrib => 06:23\n",
      "magrib_jamat => 06:30\n",
      "isha => 07:42\n",
      "isha_jamat => 08:00\n"
     ]
    }
   ],
   "source": [
    "for key,value in dates_access.items():\n",
    "    print (key, \"=>\", value)\n",
    "    #playsound('/home/danish/Downloads/adan.mp3')"
   ]
  },
  {
   "cell_type": "code",
   "execution_count": null,
   "metadata": {},
   "outputs": [],
   "source": []
  },
  {
   "cell_type": "code",
   "execution_count": null,
   "metadata": {},
   "outputs": [],
   "source": []
  }
 ],
 "metadata": {
  "kernelspec": {
   "display_name": "Python 3",
   "language": "python",
   "name": "python3"
  }
 },
 "nbformat": 4,
 "nbformat_minor": 2
}
