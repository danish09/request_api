{
 "cells": [
  {
   "cell_type": "code",
   "execution_count": 35,
   "metadata": {},
   "outputs": [],
   "source": [
    "import json"
   ]
  },
  {
   "cell_type": "code",
   "execution_count": 36,
   "metadata": {},
   "outputs": [],
   "source": [
    "from datetime import datetime"
   ]
  },
  {
   "cell_type": "code",
   "execution_count": 37,
   "metadata": {},
   "outputs": [],
   "source": [
    "from playsound import playsound"
   ]
  },
  {
   "cell_type": "code",
   "execution_count": 38,
   "metadata": {},
   "outputs": [],
   "source": [
    "tday=datetime.today().strftime('%Y-%m-%d')"
   ]
  },
  {
   "cell_type": "code",
   "execution_count": 39,
   "metadata": {},
   "outputs": [],
   "source": [
    "with open('/home/danish/repo/hub/request_api/iccuk_prayertimes') as json_file:\n",
    "    read_content = json.load(json_file)"
   ]
  },
  {
   "cell_type": "code",
   "execution_count": 41,
   "metadata": {},
   "outputs": [],
   "source": [
    "times_access = read_content['times']"
   ]
  },
  {
   "cell_type": "code",
   "execution_count": 42,
   "metadata": {},
   "outputs": [],
   "source": [
    "dates_access = times_access[tday]"
   ]
  },
  {
   "cell_type": "code",
   "execution_count": 44,
   "metadata": {},
   "outputs": [
    {
     "name": "stdout",
     "output_type": "stream",
     "text": [
      "date => 2019-03-25\n",
      "fajr => 04:15\n",
      "fajr_jamat => 04:45\n",
      "sunrise => 05:50\n",
      "dhuhr => 12:12\n",
      "dhuhr_jamat => 12:45\n",
      "asr => 03:31\n",
      "asr_2 => 04:22\n",
      "asr_jamat => 04:37\n",
      "magrib => 06:24\n",
      "magrib_jamat => 06:31\n",
      "isha => 07:42\n",
      "isha_jamat => 08:15\n"
     ]
    }
   ],
   "source": [
    "for key,value in dates_access.items():\n",
    "    print (key, \"=>\", value)\n",
    "    #playsound('/home/danish/Downloads/adan.mp3')"
   ]
  },
  {
   "cell_type": "markdown",
   "metadata": {},
   "source": [
    "### "
   ]
  },
  {
   "cell_type": "code",
   "execution_count": null,
   "metadata": {},
   "outputs": [],
   "source": []
  }
 ],
 "metadata": {
  "kernelspec": {
   "display_name": "Python 3",
   "language": "python",
   "name": "python3"
  }
 },
 "nbformat": 4,
 "nbformat_minor": 2
}
